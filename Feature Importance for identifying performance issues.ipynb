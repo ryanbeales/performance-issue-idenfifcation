{
 "cells": [
  {
   "cell_type": "markdown",
   "metadata": {},
   "source": [
    "# Using feature importance to identify which metrics are the cause of performance problems"
   ]
  },
  {
   "cell_type": "markdown",
   "metadata": {},
   "source": [
    "In this notebook I'll demonstrate how to use feature importance to identify which of the many metrics available are the highest factors in intermittant system or transaction performance problems.\n",
    "\n",
    "I've used this technique to identify performance problems from a large dataset of monitoring values which were otherwise not immediately apparent. We had captured over 30 timing and other metrics (thread counts, locations, etc) for many thousands of transactions but the issue was never clear enough in that data to identify which component was causing the performance issue. Using the below technique however I was able to pinpoint the component that factors the most in to a transaction which exceeded SLA values.\n",
    "\n",
    "In this notebook I'll:\n",
    "1. Generate a set of timings over 2 components\n",
    "2. Add a random error to one of those components\n",
    "3. Use [feature importance](http://scikit-learn.org/stable/auto_examples/ensemble/plot_forest_importances.html) to correctly identify which of the compents introduced the errors.\n",
    "\n",
    "This first section will generate and add the errors to the data"
   ]
  },
  {
   "cell_type": "code",
   "execution_count": 48,
   "metadata": {
    "collapsed": false
   },
   "outputs": [],
   "source": [
    "# Import pandas to work with the data, random to generate our values\n",
    "import pandas as pd\n",
    "from random import random\n",
    "\n",
    "# We'll generate 10000 random transactions to work with\n",
    "# and store them in a pandas DataFrame.\n",
    "transaction_ids = range(10000)\n",
    "\n",
    "df = pd.DataFrame()\n",
    "df['transaction_id'] = transaction_ids\n",
    "\n",
    "\n",
    "# Component 1 timings\n",
    "# We'll generate some random data to show each step this compoment performs \n",
    "# But there will be no correlation here between a transaction of concern and\n",
    "# of no concern.\n",
    "df['component_1_step_1'] = [random() for x in transaction_ids]\n",
    "df['component_1_step_2'] = [random() for x in transaction_ids]\n",
    "df['component_1_step_3'] = [random() for x in transaction_ids]\n",
    "\n",
    "\n",
    "# Component 2 timings \n",
    "# This will be the source of our slow perfromance that we will identify later.\n",
    "# Step 1 for this component will show no concern.\n",
    "df['component_2_step_1'] = [random() for x in transaction_ids]\n",
    "\n",
    "\n",
    "# Here we have a function to generate a 10% error rate in to the data, we'll\n",
    "# use this to make some random values for the step 2 and 3 that component 2 \n",
    "# performs.\n",
    "def make_random_errors(x):\n",
    "    # 10% error rate\n",
    "    if x % 10 == 0:\n",
    "        error_amount = 2.0 + random() * 3\n",
    "    else:\n",
    "        error_amount = 0.0\n",
    "    \n",
    "    return random() + error_amount\n",
    "\n",
    "df['component_2_step_2'] = [make_random_errors(x) for x in transaction_ids]\n",
    "df['component_2_step_3'] = [make_random_errors(x) for x in transaction_ids]\n",
    "\n",
    "\n",
    "# Now we have our component timings, sum them all up to create a total transaction\n",
    "# time. \n",
    "df['total_transaction_time'] = df.component_1_step_1 + \\\n",
    "                               df.component_1_step_2 + \\\n",
    "                               df.component_1_step_3 + \\\n",
    "                               df.component_2_step_1 + \\\n",
    "                               df.component_2_step_2 + \\\n",
    "                               df.component_2_step_3        "
   ]
  },
  {
   "cell_type": "markdown",
   "metadata": {},
   "source": [
    "At this point we should have a set of data in df which may look like any set of metrics you can extract from an application.\n",
    "\n",
    "Now we need to frame the question that we want to answer.\n",
    "\n",
    "For this set of data we know we have a transaction SLA of 5 seconds, however the problem has been some transactions are taking longer than that. After investigations it's not immediately apparent what is the cause of these issues. So we want to ask:\n",
    "\n",
    "\"Which of the recorded timing values contibutes the most to the total transaction time being longer than 5 seconds?\"\n",
    "\n",
    "To complete this we will add a column to the dataset that flags if a transaction is over 5 seconds or not."
   ]
  },
  {
   "cell_type": "code",
   "execution_count": 49,
   "metadata": {
    "collapsed": false
   },
   "outputs": [
    {
     "data": {
      "text/html": [
       "<div>\n",
       "<table border=\"1\" class=\"dataframe\">\n",
       "  <thead>\n",
       "    <tr style=\"text-align: right;\">\n",
       "      <th></th>\n",
       "      <th>transaction_id</th>\n",
       "    </tr>\n",
       "    <tr>\n",
       "      <th>concern</th>\n",
       "      <th></th>\n",
       "    </tr>\n",
       "  </thead>\n",
       "  <tbody>\n",
       "    <tr>\n",
       "      <th>0.0</th>\n",
       "      <td>8991</td>\n",
       "    </tr>\n",
       "    <tr>\n",
       "      <th>1.0</th>\n",
       "      <td>1009</td>\n",
       "    </tr>\n",
       "  </tbody>\n",
       "</table>\n",
       "</div>"
      ],
      "text/plain": [
       "         transaction_id\n",
       "concern                \n",
       "0.0                8991\n",
       "1.0                1009"
      ]
     },
     "execution_count": 49,
     "metadata": {},
     "output_type": "execute_result"
    }
   ],
   "source": [
    "# Create our concern value. A transaction is of concern if the \n",
    "# total transaction time is greater than 5.0 seconds (our SLA in this example)\n",
    "df['concern'] = [1.0 if x > 5.0 else 0.0 for x in df.total_transaction_time]\n",
    "\n",
    "# Count how many transactions are of concern in our data:\n",
    "df[['transaction_id','concern']].groupby('concern').count()"
   ]
  },
  {
   "cell_type": "markdown",
   "metadata": {},
   "source": [
    "The above shows we've created roughly 10% of our transactions over 5 seconds.\n",
    "\n",
    "The next step is to prepare our data for the classifier, we're going to turn it in to two separate arrays for [Features](https://en.wikipedia.org/wiki/Feature_(machine_learning)) and [Labels](https://en.wikipedia.org/wiki/Supervised_learning). These are machine learning terms and they normally are stored in X and y. It's outside the scope of how/why this is, but we're going to leverage this to determine which of the metrics influences the transaction times the most so we can narrow down our focus on where to examine next.\n",
    "\n",
    "In forming X, we do not want to include the total transaction time as it will have a 1:1 relationship with the transaction being over 5 seconds or not. We include all our other timing columns that we created (or other metrics from different sources of data).\n",
    "\n",
    "y will be the concern value, what we want to map all these timing values too."
   ]
  },
  {
   "cell_type": "code",
   "execution_count": 54,
   "metadata": {
    "collapsed": true
   },
   "outputs": [],
   "source": [
    "X = df[['component_1_step_1','component_1_step_2','component_1_step_3',\n",
    "       'component_2_step_1','component_2_step_2','component_2_step_3']]\n",
    "\n",
    "y = df[['concern']].values.ravel() # to create the 1d array that the classifier expects"
   ]
  },
  {
   "cell_type": "markdown",
   "metadata": {},
   "source": [
    "This section is where the processing occurs. We're using scikit learn and their [example](http://scikit-learn.org/stable/auto_examples/ensemble/plot_forest_importances.html) of feature importance to take our metrics data and tell us which of the columns are the biggest contributors to the transaction taking longer than 5 seconds or not."
   ]
  },
  {
   "cell_type": "code",
   "execution_count": 51,
   "metadata": {
    "collapsed": false
   },
   "outputs": [],
   "source": [
    "# Using this example as a template:\n",
    "# http://scikit-learn.org/stable/auto_examples/ensemble/plot_forest_importances.html\n",
    "\n",
    "import numpy as np\n",
    "import matplotlib.pyplot as plt\n",
    "\n",
    "from sklearn.ensemble import ExtraTreesClassifier\n",
    "\n",
    "\n",
    "# Build a forest and compute the feature importances\n",
    "forest = ExtraTreesClassifier(n_estimators=250,\n",
    "                              random_state=0)\n",
    "\n",
    "# Fit the model to our metrics data\n",
    "forest.fit(X, y)\n",
    "\n",
    "# Extract the feature importance from the model\n",
    "importances = forest.feature_importances_\n",
    "std = np.std([tree.feature_importances_ for tree in forest.estimators_],\n",
    "             axis=0)\n",
    "# This array now contains the columns in order of how important they are to\n",
    "# the make up of the label.\n",
    "indices = np.argsort(importances)[::-1]"
   ]
  },
  {
   "cell_type": "markdown",
   "metadata": {},
   "source": [
    "Now we have three arrays:\n",
    "1. indicies: The column rankings in order of how important they are to the concern value\n",
    "2. importance: The percentage value of how important they are to the concern value\n",
    "3. X.columns: Contains the column names that we can then use to create our output.\n",
    "\n",
    "We can then print out the columns in order of the rank given by the classifer:"
   ]
  },
  {
   "cell_type": "code",
   "execution_count": 52,
   "metadata": {
    "collapsed": false
   },
   "outputs": [
    {
     "name": "stdout",
     "output_type": "stream",
     "text": [
      "Feature ranking:\n",
      "1. 5 component_2_step_3 (0.542)\n",
      "2. 4 component_2_step_2 (0.450)\n",
      "3. 0 component_1_step_1 (0.002)\n",
      "4. 2 component_1_step_3 (0.002)\n",
      "5. 1 component_1_step_2 (0.002)\n",
      "6. 3 component_2_step_1 (0.002)\n"
     ]
    }
   ],
   "source": [
    "# Print the feature ranking\n",
    "print(\"Feature ranking:\")\n",
    "\n",
    "for f in range(X.shape[1]):\n",
    "    print(\"{rank}. {index} {column} ({importance:0.3f})\".format(rank=f + 1, \n",
    "                                                   index=indices[f],\n",
    "                                                   column=X.columns[indices[f]], \n",
    "                                                   importance=importances[indices[f]]))\n"
   ]
  },
  {
   "cell_type": "markdown",
   "metadata": {},
   "source": [
    "This output shows that values in columns 4 + 5 contribute a total of 96% over the value of concern being a 1 or 0.\n",
    "\n",
    "And for our question:\n",
    "\"Which of the recorded timing values contibutes the most to the total transaction time being longer than 5 seconds?\"\n",
    "\n",
    "We now have an answer: We need to focus our investigations on why component 2 is intermittantly slow, specifically what is being performed on step 2 and step 3.\n",
    "\n",
    "We can also see this in graph form:"
   ]
  },
  {
   "cell_type": "code",
   "execution_count": 53,
   "metadata": {
    "collapsed": false
   },
   "outputs": [
    {
     "data": {
      "image/png": "[encoded data removed]",
      "text/plain": [
       "<matplotlib.figure.Figure at 0x7f6aebe45d68>"
      ]
     },
     "metadata": {},
     "output_type": "display_data"
    }
   ],
   "source": [
    "# Plot the feature importances of the forest\n",
    "plt.figure()\n",
    "plt.title(\"Feature importances\")\n",
    "plt.bar(range(X.shape[1]), importances[indices],\n",
    "       color=\"r\", yerr=std[indices], align=\"center\")\n",
    "plt.xticks(range(X.shape[1]), indices)\n",
    "plt.xlim([-1, X.shape[1]])\n",
    "plt.show()"
   ]
  },
  {
   "cell_type": "markdown",
   "metadata": {},
   "source": [
    "In the real-world example there were many other metrics being collected, and due to a historical issue on one of those metrics all investigations were focused on that point (for example, on component 1). What we're able to do with this is is redirect the investigation to the actual causes of the problems, saving time by not having to reinvestiate Component 1  to identify an issue that never existed there."
   ]
  }
 ],
 "metadata": {
  "kernelspec": {
   "display_name": "Python 3",
   "language": "python",
   "name": "python3"
  },
  "language_info": {
   "codemirror_mode": {
    "name": "ipython",
    "version": 3
   },
   "file_extension": ".py",
   "mimetype": "text/x-python",
   "name": "python",
   "nbconvert_exporter": "python",
   "pygments_lexer": "ipython3",
   "version": "3.5.2"
  }
 },
 "nbformat": 4,
 "nbformat_minor": 2
}
